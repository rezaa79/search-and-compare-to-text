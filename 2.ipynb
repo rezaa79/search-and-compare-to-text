{
 "cells": [
  {
   "cell_type": "code",
   "execution_count": 2,
   "id": "4ce47f15",
   "metadata": {},
   "outputs": [
    {
     "name": "stdout",
     "output_type": "stream",
     "text": [
      "Most repeated word: the\n",
      "Frequency: 19\n"
     ]
    }
   ],
   "source": [
    "file = open(\"New Text Document.txt\",\"r\")\n",
    "frequent_word = \"\"\n",
    "frequency = 0\n",
    "words = []\n",
    "\n",
    "\n",
    "for line in file:\n",
    "\n",
    "    line_word = line.lower().replace(',','').replace('.','').split(\" \"); \n",
    "\n",
    "    for w in line_word: \n",
    "        words.append(w); \n",
    "\n",
    "for i in range(0, len(words)): \n",
    "\n",
    "    count = 1; \n",
    "\n",
    "    for j in range(i+1, len(words)): \n",
    "        if(words[i] == words[j]): \n",
    "            count = count + 1; \n",
    "\n",
    "\n",
    "    if(count > frequency): \n",
    "        frequency = count; \n",
    "        frequent_word = words[i]; \n",
    "\n",
    "print(\"Most repeated word: \" + frequent_word)\n",
    "print(\"Frequency: \" + str(frequency))\n",
    "file.close();\n"
   ]
  }
 ],
 "metadata": {
  "kernelspec": {
   "display_name": "Python 3 (ipykernel)",
   "language": "python",
   "name": "python3"
  },
  "language_info": {
   "codemirror_mode": {
    "name": "ipython",
    "version": 3
   },
   "file_extension": ".py",
   "mimetype": "text/x-python",
   "name": "python",
   "nbconvert_exporter": "python",
   "pygments_lexer": "ipython3",
   "version": "3.7.4"
  }
 },
 "nbformat": 4,
 "nbformat_minor": 5
}
