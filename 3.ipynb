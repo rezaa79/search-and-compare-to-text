{
 "cells": [
  {
   "cell_type": "code",
   "execution_count": 7,
   "id": "a8ad86a0",
   "metadata": {},
   "outputs": [
    {
     "name": "stdout",
     "output_type": "stream",
     "text": [
      "{'not', 'they', 'smiled', 'to', 'for', 'and', 'stronger', 'his', 'said', 'the', 'heart', 'a', 'lived', 'it', 'you', 'upon', 'in', 'there', 'love', 'that', 'asked', 'by', 'deep', 'with', 'beautiful', 'day', 'once', 'man', 'had', 'her', 'one', 'of', 'your', 'at', 'into', 'time', 'he', 'true', 'intrigued'}\n"
     ]
    }
   ],
   "source": [
    "import string\n",
    "\n",
    "def preprocess_text(text):\n",
    "    text = text.lower()  \n",
    "    text = text.translate(str.maketrans(\"\", \"\", string.punctuation))  \n",
    "    words = text.split()  \n",
    "    return words\n",
    "\n",
    "def find_common_words(file1, file2):\n",
    "    with open(file1, 'r') as f1, open(file2, 'r') as f2:\n",
    "        text1 = f1.read()\n",
    "        text2 = f2.read()\n",
    "\n",
    "    words1 = preprocess_text(text1)\n",
    "    words2 = preprocess_text(text2)\n",
    "    common_words = set(words1) & set(words2)  \n",
    "    return common_words\n",
    "\n",
    "file1 = \"New Text Document.txt\"\n",
    "file2 = \"New Text Document1.txt\"\n",
    "\n",
    "common_words = find_common_words(file1, file2)\n",
    "print(common_words)\n"
   ]
  },
  {
   "cell_type": "code",
   "execution_count": null,
   "id": "097a2fc8",
   "metadata": {},
   "outputs": [],
   "source": []
  }
 ],
 "metadata": {
  "kernelspec": {
   "display_name": "Python 3 (ipykernel)",
   "language": "python",
   "name": "python3"
  },
  "language_info": {
   "codemirror_mode": {
    "name": "ipython",
    "version": 3
   },
   "file_extension": ".py",
   "mimetype": "text/x-python",
   "name": "python",
   "nbconvert_exporter": "python",
   "pygments_lexer": "ipython3",
   "version": "3.7.4"
  }
 },
 "nbformat": 4,
 "nbformat_minor": 5
}
